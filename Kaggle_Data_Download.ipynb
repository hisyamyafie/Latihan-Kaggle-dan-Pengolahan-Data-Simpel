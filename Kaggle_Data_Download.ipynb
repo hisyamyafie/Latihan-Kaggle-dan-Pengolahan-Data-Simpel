{
 "cells": [
  {
   "cell_type": "markdown",
   "id": "afc5c0b7",
   "metadata": {},
   "source": [
    "# !pip install kaggle"
   ]
  },
  {
   "cell_type": "code",
   "execution_count": 3,
   "id": "8bde90d5",
   "metadata": {},
   "outputs": [
    {
     "name": "stdout",
     "output_type": "stream",
     "text": [
      "Requirement already satisfied: kaggle in c:\\users\\ipang\\anaconda3\\lib\\site-packages (1.5.12)\n",
      "Requirement already satisfied: certifi in c:\\users\\ipang\\anaconda3\\lib\\site-packages (from kaggle) (2020.12.5)\n",
      "Requirement already satisfied: urllib3 in c:\\users\\ipang\\anaconda3\\lib\\site-packages (from kaggle) (1.26.4)\n",
      "Requirement already satisfied: python-slugify in c:\\users\\ipang\\anaconda3\\lib\\site-packages (from kaggle) (5.0.2)\n",
      "Requirement already satisfied: requests in c:\\users\\ipang\\anaconda3\\lib\\site-packages (from kaggle) (2.25.1)\n",
      "Requirement already satisfied: six>=1.10 in c:\\users\\ipang\\anaconda3\\lib\\site-packages (from kaggle) (1.15.0)\n",
      "Requirement already satisfied: python-dateutil in c:\\users\\ipang\\anaconda3\\lib\\site-packages (from kaggle) (2.8.1)\n",
      "Requirement already satisfied: tqdm in c:\\users\\ipang\\anaconda3\\lib\\site-packages (from kaggle) (4.59.0)\n",
      "Requirement already satisfied: text-unidecode>=1.3 in c:\\users\\ipang\\anaconda3\\lib\\site-packages (from python-slugify->kaggle) (1.3)\n",
      "Requirement already satisfied: idna<3,>=2.5 in c:\\users\\ipang\\anaconda3\\lib\\site-packages (from requests->kaggle) (2.10)\n",
      "Requirement already satisfied: chardet<5,>=3.0.2 in c:\\users\\ipang\\anaconda3\\lib\\site-packages (from requests->kaggle) (4.0.0)\n"
     ]
    }
   ],
   "source": [
    "!pip install kaggle"
   ]
  },
  {
   "cell_type": "markdown",
   "id": "74bda519",
   "metadata": {},
   "source": [
    "# Download data  film di kaggle"
   ]
  },
  {
   "cell_type": "code",
   "execution_count": 5,
   "id": "9399fd6a",
   "metadata": {},
   "outputs": [
    {
     "name": "stdout",
     "output_type": "stream",
     "text": [
      "ref                                                               title                                              size  lastUpdated          downloadCount  voteCount  usabilityRating  \n",
      "----------------------------------------------------------------  ------------------------------------------------  -----  -------------------  -------------  ---------  ---------------  \n",
      "luiscorter/netflix-original-films-imdb-scores                     Netflix Original Films & IMDB Scores               12KB  2021-06-03 23:24:57           5606        127  1.0              \n",
      "stefanoleone992/filmtv-movies-dataset                             FilmTV movies dataset                              73MB  2021-09-12 14:50:08           1885         33  1.0              \n",
      "bidyutchanda/top-10-highest-grossing-films-19752018               Top 10 Highest Grossing Films (1975-2018)          12KB  2018-12-22 14:22:29           2960         41  0.88235295       \n",
      "therealsampat/disney-movies-dataset                               Disney Movies and Films Dataset                    73KB  2021-01-14 15:14:34           1136         31  1.0              \n",
      "clouds0715/thefilmindustry                                        The Film Industry                                   2KB  2018-04-01 02:23:44            605         14  0.64705884       \n",
      "mpwolke/cusersmarildownloadscinemacsv                             Cinema by film's country of origin                  2KB  2019-12-20 21:58:25            140         18  0.9705882        \n",
      "blessondensil294/christopher-nolan-filmography-and-scripts        Christopher Nolan Filmography and Scripts         606KB  2020-10-05 15:11:14            116         25  1.0              \n",
      "fivethirtyeight/cuss-words-and-deaths-in-quentin-tarantino-films  Cuss words and Deaths in Quentin Tarantino Films    8KB  2017-07-19 20:56:53            359         19  0.85294116       \n",
      "makvel/hindi-film-music-kishor-kumar-1-to-300-songs               Indian Hindi film music                            16KB  2018-01-01 06:15:18            708         21  0.61764705       \n",
      "new-york-city/new-york-city-film-permits                          New York City Film Permits                          3MB  2019-12-01 04:44:42            533          7  0.7058824        \n",
      "rishidamarla/films-dataset                                        Films Dataset                                      51KB  2021-03-27 16:48:41            210         14  0.9411765        \n",
      "isaactaylorofficial/imdb-10000-most-voted-feature-films-041118    IMDB 10,000 Most Voted Feature Films (04/11/18)   990KB  2018-11-05 21:07:33           1454         23  0.5588235        \n",
      "rounakbanik/the-movies-dataset                                    The Movies Dataset                                228MB  2017-11-10 02:40:38         170701       2613  0.8235294        \n",
      "theacademy/academy-awards                                         The Academy Awards, 1927-2015                     185KB  2017-02-13 17:30:48           6240         86  0.7352941        \n",
      "spiyer/old-film-restoration-dataset                               Old Film Restoration Dataset                        5GB  2021-03-28 04:31:49             20          5  0.8125           \n",
      "pavelbiz/covers                                                   Covers of films cartoons and series with genres   617MB  2021-08-26 13:04:27             68          8  0.9375           \n",
      "suchitgupta60/film-locations-in-san-francisco                     Film Locations in San Francisco                    54KB  2017-05-31 22:09:20            196          4  0.7941176        \n",
      "unanimad/the-oscar-award                                          The Oscar Award, 1927 - 2020                      191KB  2020-02-19 15:45:30           2879         87  1.0              \n",
      "new-york-city/nyc-filming-permits                                 NYC Filming Permits                                 2MB  2017-09-19 17:45:31            208          9  0.7647059        \n",
      "xvivancos/star-wars-movie-scripts                                 Star Wars Movie Scripts                           158KB  2018-05-07 13:57:15           4993        124  1.0              \n"
     ]
    }
   ],
   "source": [
    "!kaggle datasets list -s \"film\""
   ]
  },
  {
   "cell_type": "code",
   "execution_count": 6,
   "id": "dc7dda6f",
   "metadata": {
    "scrolled": true
   },
   "outputs": [
    {
     "name": "stdout",
     "output_type": "stream",
     "text": [
      "Downloading netflix-original-films-imdb-scores.zip to C:\\Users\\ipang\\Documents\\Python Scripts\n",
      "\n"
     ]
    },
    {
     "name": "stderr",
     "output_type": "stream",
     "text": [
      "\n",
      "  0%|          | 0.00/12.4k [00:00<?, ?B/s]\n",
      "100%|##########| 12.4k/12.4k [00:00<00:00, 2.56MB/s]\n"
     ]
    }
   ],
   "source": [
    "!kaggle datasets download luiscorter/netflix-original-films-imdb-scores"
   ]
  },
  {
   "cell_type": "code",
   "execution_count": 13,
   "id": "e431bdfc",
   "metadata": {},
   "outputs": [],
   "source": [
    "import zipfile\n",
    "with zipfile.ZipFile(\"netflix-original-films-imdb-scores.zip\",\"r\") as zip_ref:\n",
    "    zip_ref.extractall(\"C:/Users/ipang/Documents/Python Scripts/netflix-original-films-imdb-scores\")"
   ]
  },
  {
   "cell_type": "markdown",
   "id": "465add8e",
   "metadata": {},
   "source": [
    "# download data music di kaggle"
   ]
  },
  {
   "cell_type": "code",
   "execution_count": 1,
   "id": "ee7a0df7",
   "metadata": {},
   "outputs": [
    {
     "name": "stdout",
     "output_type": "stream",
     "text": [
      "ref                                                      title                                        size  lastUpdated          downloadCount  voteCount  usabilityRating  \n",
      "-------------------------------------------------------  ------------------------------------------  -----  -------------------  -------------  ---------  ---------------  \n",
      "insiyeah/musicfeatures                                   Music features                              291KB  2018-06-25 05:42:10           3529         90  0.85294116       \n",
      "imsparsh/musicnet-dataset                                MusicNet Dataset                             22GB  2021-02-18 14:12:19           3714        263  1.0              \n",
      "andradaolteanu/gtzan-dataset-music-genre-classification  GTZAN Dataset - Music Genre Classification    1GB  2020-03-24 14:05:33          12282        309  0.88235295       \n",
      "eswarchandt/amazon-music-reviews                         Amazon Musical Instruments Reviews            5MB  2020-03-29 02:59:52           7967        237  1.0              \n",
      "purumalgi/music-genre-classification                     Music Genre Classification                    1MB  2021-08-07 07:11:37            997         30  1.0              \n",
      "sabermalek/iranian-traditional-music                     MICM Music Dataset                           28GB  2018-11-27 15:45:49            484         56  0.875            \n",
      "neisse/scrapped-lyrics-from-6-genres                     Song lyrics from 6 musical genres            76MB  2019-11-18 02:59:42           2563         73  1.0              \n",
      "soumikrakshit/classical-music-midi                       Classical Music MIDI                          2MB  2019-05-17 14:07:25           1803         49  0.625            \n",
      "pieca111/music-artists-popularity                        Music artists popularity                     77MB  2019-05-05 16:04:23           2362         46  0.7058824        \n",
      "harish24/music-genre-classification                      Music Genre Classification                  229KB  2020-11-03 08:02:13            536         14  0.9705882        \n",
      "revilrosa/music-label-dataset                            Music Label Dataset                           5MB  2019-01-28 09:26:42           1931         42  0.7647059        \n",
      "saurabhshahane/music-dataset-1950-to-2019                Music Dataset : 1950 to 2019                 10MB  2021-02-08 11:02:04            427         23  0.9411765        \n",
      "leonardopena/top50spotify2019                            Top 50 Spotify Songs - 2019                   2KB  2019-08-08 16:39:46          27552        819  1.0              \n",
      "jembishop1/classical-music-piano-rolls                   Classical Music ML Format                   416MB  2019-04-30 20:10:48            319         22  0.875            \n",
      "adithyakag/musicnotedetection                            Music notes                                  39MB  2017-08-03 16:52:49            774         24  0.6875           \n",
      "lnicalo/gtzan-musicspeech-collection                     GTZAN music/speech collection               283MB  2017-10-24 12:52:44           1355         25  0.625            \n",
      "andrewmvd/music-sales                                    Music Industry Sales (1973 - 2019)           16KB  2020-06-24 19:16:08            859         21  1.0              \n",
      "pcbreviglieri/lastfm-music-artist-scrobbles              last.fm Music Artist Scrobbles              615KB  2020-06-12 12:05:59            174         11  1.0              \n",
      "nolanbconaway/pitchfork-data                             18,393 Pitchfork Reviews                     33MB  2017-01-13 04:18:10           9542        354  0.7058824        \n",
      "zaheenhamidani/ultimate-spotify-tracks-db                Spotify Tracks DB                            15MB  2019-07-23 04:26:23           9239        191  0.5882353        \n"
     ]
    }
   ],
   "source": [
    "!kaggle datasets list -s \"music\""
   ]
  },
  {
   "cell_type": "code",
   "execution_count": 2,
   "id": "77f8874f",
   "metadata": {},
   "outputs": [
    {
     "name": "stdout",
     "output_type": "stream",
     "text": [
      "Downloading top50spotify2019.zip to C:\\Users\\ipang\\Documents\\Python Scripts"
     ]
    },
    {
     "name": "stderr",
     "output_type": "stream",
     "text": [
      "\n",
      "  0%|          | 0.00/2.31k [00:00<?, ?B/s]\n",
      "100%|##########| 2.31k/2.31k [00:00<00:00, 33.1kB/s]\n"
     ]
    },
    {
     "name": "stdout",
     "output_type": "stream",
     "text": [
      "\n",
      "\n"
     ]
    }
   ],
   "source": [
    "!kaggle datasets download leonardopena/top50spotify2019"
   ]
  },
  {
   "cell_type": "code",
   "execution_count": 2,
   "id": "903d7a25",
   "metadata": {},
   "outputs": [],
   "source": [
    " import zipfile\n",
    "with zipfile.ZipFile(\"top50spotify2019.zip\",\"r\") as zip_ref:\n",
    "    zip_ref.extractall(\"C:/Users/ipang/Documents/Python Scripts/top50spotify2019\")"
   ]
  },
  {
   "cell_type": "code",
   "execution_count": null,
   "id": "091116ed",
   "metadata": {},
   "outputs": [],
   "source": []
  }
 ],
 "metadata": {
  "kernelspec": {
   "display_name": "Python 3",
   "language": "python",
   "name": "python3"
  },
  "language_info": {
   "codemirror_mode": {
    "name": "ipython",
    "version": 3
   },
   "file_extension": ".py",
   "mimetype": "text/x-python",
   "name": "python",
   "nbconvert_exporter": "python",
   "pygments_lexer": "ipython3",
   "version": "3.8.8"
  }
 },
 "nbformat": 4,
 "nbformat_minor": 5
}
